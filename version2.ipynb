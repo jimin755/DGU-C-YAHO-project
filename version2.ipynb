{
  "nbformat": 4,
  "nbformat_minor": 0,
  "metadata": {
    "colab": {
      "name": "version2.ipynb",
      "private_outputs": true,
      "provenance": [],
      "collapsed_sections": [],
      "mount_file_id": "1kDY3dFqTODmgY4JfF6Hc6ORVDTEq_lSn",
      "authorship_tag": "ABX9TyNUSwsH370IaNJOLeAATWUl",
      "include_colab_link": true
    },
    "kernelspec": {
      "name": "python3",
      "display_name": "Python 3"
    },
    "language_info": {
      "name": "python"
    },
    "accelerator": "GPU"
  },
  "cells": [
    {
      "cell_type": "markdown",
      "metadata": {
        "id": "view-in-github",
        "colab_type": "text"
      },
      "source": [
        "<a href=\"https://colab.research.google.com/github/jimin755/DGU-C-YAHO-project/blob/main/version2.ipynb\" target=\"_parent\"><img src=\"https://colab.research.google.com/assets/colab-badge.svg\" alt=\"Open In Colab\"/></a>"
      ]
    },
    {
      "cell_type": "markdown",
      "metadata": {
        "id": "QjUWrD_i970v"
      },
      "source": [
        "드라이브 연결하세여"
      ]
    },
    {
      "cell_type": "markdown",
      "metadata": {
        "id": "a46revvMFINU"
      },
      "source": [
        "github https://github.com/Tianxiaomo/pytorch-YOLOv4"
      ]
    },
    {
      "cell_type": "code",
      "metadata": {
        "id": "rIt_ZdSE-A_F"
      },
      "source": [
        "%cd drive/MyDrive/"
      ],
      "execution_count": null,
      "outputs": []
    },
    {
      "cell_type": "markdown",
      "metadata": {
        "id": "xlCXKX-x-bkX"
      },
      "source": [
        "파일 생성 및 이동"
      ]
    },
    {
      "cell_type": "code",
      "metadata": {
        "id": "3iuGSV23-Udi"
      },
      "source": [
        "%mkdir yolov4_종설"
      ],
      "execution_count": null,
      "outputs": []
    },
    {
      "cell_type": "code",
      "metadata": {
        "id": "QVnySeUI-VEd"
      },
      "source": [
        "%cd yolov4_종설"
      ],
      "execution_count": null,
      "outputs": []
    },
    {
      "cell_type": "markdown",
      "metadata": {
        "id": "jMO6t4VV-x6W"
      },
      "source": [
        "깃 클론 및 필요 라이브러리 설치"
      ]
    },
    {
      "cell_type": "code",
      "metadata": {
        "id": "j-Qcsbq5-rnJ"
      },
      "source": [
        "!git clone https://github.com/DGU-C-YAHO/Yolov4_model.git"
      ],
      "execution_count": null,
      "outputs": []
    },
    {
      "cell_type": "code",
      "metadata": {
        "id": "Mjciz7MpA-kC"
      },
      "source": [
        "%cd pytorch-YOLOv4/"
      ],
      "execution_count": null,
      "outputs": []
    },
    {
      "cell_type": "markdown",
      "metadata": {
        "id": "tF-dOEejKBdy"
      },
      "source": [
        "Colab 설정"
      ]
    },
    {
      "cell_type": "code",
      "metadata": {
        "id": "fvIpejIsJnhW"
      },
      "source": [
        "!git init"
      ],
      "execution_count": null,
      "outputs": []
    },
    {
      "cell_type": "code",
      "metadata": {
        "id": "1h0eOr5OJ6po"
      },
      "source": [
        "!git config --global user.email \"kluiop1@naver.com.com\"\n",
        "!git config --global user.name \"jimin755\""
      ],
      "execution_count": null,
      "outputs": []
    },
    {
      "cell_type": "markdown",
      "metadata": {
        "id": "36ht-GRsO3Uh"
      },
      "source": [
        " !git remote set-url origin https://{유저이름 이메일 아님}:{깃허브 비밀번호}@github.com/DGU-C-YAHO/Yolov4_model.git"
      ]
    },
    {
      "cell_type": "code",
      "metadata": {
        "id": "n65AuDouKkJi"
      },
      "source": [
        " !git remote set-url origin https://{유저네임}:{깃허브 비밀번호}@github.com/DGU-C-YAHO/Yolov4_model.git"
      ],
      "execution_count": null,
      "outputs": []
    },
    {
      "cell_type": "code",
      "metadata": {
        "id": "EmsulkieMbfz"
      },
      "source": [
        "!git status"
      ],
      "execution_count": null,
      "outputs": []
    },
    {
      "cell_type": "code",
      "metadata": {
        "id": "Yeqe3zGuKFLc"
      },
      "source": [
        "!git remote -v"
      ],
      "execution_count": null,
      "outputs": []
    },
    {
      "cell_type": "code",
      "metadata": {
        "id": "Z037NBAoKvKh"
      },
      "source": [
        "!git add ."
      ],
      "execution_count": null,
      "outputs": []
    },
    {
      "cell_type": "code",
      "metadata": {
        "id": "RU5goePCK61d"
      },
      "source": [
        "!git commit -m \"commit_name\""
      ],
      "execution_count": null,
      "outputs": []
    },
    {
      "cell_type": "code",
      "metadata": {
        "id": "irO1FFGGLJEZ"
      },
      "source": [
        "!git push"
      ],
      "execution_count": null,
      "outputs": []
    },
    {
      "cell_type": "code",
      "metadata": {
        "id": "ip_7g510_G_r"
      },
      "source": [
        "!wget https://github.com/AlexeyAB/darknet/releases/download/darknet_yolo_v3_optimal/yolov4.weights"
      ],
      "execution_count": null,
      "outputs": []
    },
    {
      "cell_type": "code",
      "metadata": {
        "id": "onGm8mKdCR92"
      },
      "source": [
        "!pip install -r requirements.txt"
      ],
      "execution_count": null,
      "outputs": []
    },
    {
      "cell_type": "code",
      "metadata": {
        "id": "KjwMklH7ZbHK"
      },
      "source": [
        "!pip install opencv-contrib-python"
      ],
      "execution_count": null,
      "outputs": []
    },
    {
      "cell_type": "code",
      "metadata": {
        "id": "tK-cARYKFMbV"
      },
      "source": [
        "!python demo.py -cfgfile \"./cfg/yolov4.cfg\" -weightfile \"./yolov4.weights\" -labelName \"car\""
      ],
      "execution_count": null,
      "outputs": []
    }
  ]
}